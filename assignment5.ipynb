{
 "cells": [
  {
   "cell_type": "code",
   "execution_count": 1,
   "metadata": {},
   "outputs": [
    {
     "name": "stdout",
     "output_type": "stream",
     "text": [
      "The answer is 0. It does not have a factorial value.\n",
      "The answer is: 1\n"
     ]
    }
   ],
   "source": [
    "number = int(input(\"Enter the number to fidn the factorial of: \"))\n",
    "answer = 1\n",
    "while number > 0:\n",
    "    answer *= number\n",
    "    number -= 1\n",
    "if number <= 0:\n",
    "    print(\"The answer is 0. It does not have a factorial value.\")\n",
    "print(f\"The answer is: {answer}\")"
   ]
  }
 ],
 "metadata": {
  "kernelspec": {
   "display_name": "Python 3",
   "language": "python",
   "name": "python3"
  },
  "language_info": {
   "codemirror_mode": {
    "name": "ipython",
    "version": 3
   },
   "file_extension": ".py",
   "mimetype": "text/x-python",
   "name": "python",
   "nbconvert_exporter": "python",
   "pygments_lexer": "ipython3",
   "version": "3.11.4"
  },
  "orig_nbformat": 4
 },
 "nbformat": 4,
 "nbformat_minor": 2
}
