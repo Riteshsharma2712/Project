{
 "cells": [
  {
   "cell_type": "code",
   "execution_count": 1,
   "metadata": {},
   "outputs": [
    {
     "name": "stdout",
     "output_type": "stream",
     "text": [
      "Login successfully\n"
     ]
    }
   ],
   "source": [
    "import random\n",
    "\n",
    "# Step 1: Define username and password\n",
    "correct_username = \"Ritesh\"\n",
    "correct_password = \"1234\"\n",
    "\n",
    "# Step 2: Take username and password from user\n",
    "username_input = input(\"Enter your username: \")\n",
    "password_input = input(\"Enter your password: \")\n",
    "\n",
    "# Step 3: Compare username and password\n",
    "if username_input == correct_username and password_input == correct_password:\n",
    "    print(\"Login successfully\")\n",
    "else:\n",
    "    print(\"Login failed\")\n",
    "    choice = input(\"1: Press 1 for relogin\\n2: Forget password/username\\nEnter your choice: \")\n",
    "\n",
    "    if choice == \"2\":\n",
    "        # Generate a random OTP (you might use a more sophisticated method for generating OTPs)\n",
    "        generated_otp = str(random.randint(1000, 9999))\n",
    "        print(\"OTP is\",generated_otp)\n",
    "\n",
    "        # Step 4: Ask user to enter OTP\n",
    "        entered_otp = input(\"Enter the OTP you received: \")\n",
    "\n",
    "        if entered_otp == generated_otp:\n",
    "            print(\"OTP matched. Your username: \" + correct_username + \", password: \" + correct_password)\n",
    "        else:\n",
    "            print(\"OTP did not match. Resending OTP...\")\n",
    "            print(\"An OTP has been resent to your registered email/phone.\")"
   ]
  }
 ],
 "metadata": {
  "kernelspec": {
   "display_name": "Python 3",
   "language": "python",
   "name": "python3"
  },
  "language_info": {
   "codemirror_mode": {
    "name": "ipython",
    "version": 3
   },
   "file_extension": ".py",
   "mimetype": "text/x-python",
   "name": "python",
   "nbconvert_exporter": "python",
   "pygments_lexer": "ipython3",
   "version": "3.11.4"
  },
  "orig_nbformat": 4
 },
 "nbformat": 4,
 "nbformat_minor": 2
}
