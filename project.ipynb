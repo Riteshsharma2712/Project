{
 "cells": [
  {
   "cell_type": "code",
   "execution_count": 1,
   "metadata": {},
   "outputs": [],
   "source": [
    "import tkinter as tk\n",
    "import requests\n",
    "\n",
    "def get_weather():\n",
    "    city=entry.get()\n",
    "    api_key=\"e59ca07ad2d9e167fdc37efb7a72c5f8\"\n",
    "\n",
    "    response=requests.get(f\"http://api.openweathermap.org/data/2.5/weather?q={city}&appid={api_key}&units=metric\")\n",
    "\n",
    "    weather_data=response.json()\n",
    "    \n",
    "    temperature=weather_data[\"main\"][\"temp\"]\n",
    "\n",
    "    description=weather_data[\"weather\"][0][\"description\"]\n",
    "    \n",
    "    result_label.config(text=f\"Temperature : {temperature}Celsius \\n Weather : {description}\")\n",
    "\n",
    "window=tk.Tk()\n",
    "window.title(\"Weather Forecast\")\n",
    "\n",
    "label=tk.Label(window,text=\"Enter city :\")\n",
    "label.pack()\n",
    "\n",
    "entry=tk.Entry(window)\n",
    "entry.pack()\n",
    "\n",
    "button=tk.Button(window,text=\"Get Weather\",command=get_weather)\n",
    "button.pack()\n",
    "\n",
    "result_label=tk.Label(window,text=\" \")\n",
    "result_label.pack()   \n",
    "\n",
    "window.mainloop()"
   ]
  }
 ],
 "metadata": {
  "kernelspec": {
   "display_name": "Python 3",
   "language": "python",
   "name": "python3"
  },
  "language_info": {
   "codemirror_mode": {
    "name": "ipython",
    "version": 3
   },
   "file_extension": ".py",
   "mimetype": "text/x-python",
   "name": "python",
   "nbconvert_exporter": "python",
   "pygments_lexer": "ipython3",
   "version": "3.11.4"
  },
  "orig_nbformat": 4
 },
 "nbformat": 4,
 "nbformat_minor": 2
}
